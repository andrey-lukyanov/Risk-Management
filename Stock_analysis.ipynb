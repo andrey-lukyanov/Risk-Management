{
 "cells": [
  {
   "cell_type": "code",
   "execution_count": 60,
   "metadata": {},
   "outputs": [],
   "source": [
    "import pandas as pd\n",
    "import numpy as np\n",
    "import matplotlib.pyplot as plt\n",
    "import datetime as dt\n",
    "%matplotlib inline\n",
    "\n",
    "plt.style.use('ggplot')"
   ]
  },
  {
   "cell_type": "code",
   "execution_count": 30,
   "metadata": {},
   "outputs": [
    {
     "data": {
      "text/html": [
       "<div>\n",
       "<style scoped>\n",
       "    .dataframe tbody tr th:only-of-type {\n",
       "        vertical-align: middle;\n",
       "    }\n",
       "\n",
       "    .dataframe tbody tr th {\n",
       "        vertical-align: top;\n",
       "    }\n",
       "\n",
       "    .dataframe thead th {\n",
       "        text-align: right;\n",
       "    }\n",
       "</style>\n",
       "<table border=\"1\" class=\"dataframe\">\n",
       "  <thead>\n",
       "    <tr style=\"text-align: right;\">\n",
       "      <th></th>\n",
       "      <th>HSBA.UK</th>\n",
       "      <th>BARC.UK</th>\n",
       "      <th>LLOY.UK</th>\n",
       "      <th>RBS.UK</th>\n",
       "      <th>BP.UK</th>\n",
       "      <th>RDSA.UK</th>\n",
       "      <th>RIO.UK</th>\n",
       "      <th>AAL.UK</th>\n",
       "    </tr>\n",
       "    <tr>\n",
       "      <th>Date</th>\n",
       "      <th></th>\n",
       "      <th></th>\n",
       "      <th></th>\n",
       "      <th></th>\n",
       "      <th></th>\n",
       "      <th></th>\n",
       "      <th></th>\n",
       "      <th></th>\n",
       "    </tr>\n",
       "  </thead>\n",
       "  <tbody>\n",
       "    <tr>\n",
       "      <th>2009-01-20</th>\n",
       "      <td>-0.245792</td>\n",
       "      <td>-0.570689</td>\n",
       "      <td>-0.638392</td>\n",
       "      <td>-0.789787</td>\n",
       "      <td>-0.049165</td>\n",
       "      <td>-0.039889</td>\n",
       "      <td>-0.185980</td>\n",
       "      <td>-0.242904</td>\n",
       "    </tr>\n",
       "    <tr>\n",
       "      <th>2009-01-21</th>\n",
       "      <td>-0.194892</td>\n",
       "      <td>-0.626511</td>\n",
       "      <td>-0.648756</td>\n",
       "      <td>-0.752959</td>\n",
       "      <td>-0.086976</td>\n",
       "      <td>-0.089082</td>\n",
       "      <td>-0.127155</td>\n",
       "      <td>-0.189779</td>\n",
       "    </tr>\n",
       "    <tr>\n",
       "      <th>2009-01-22</th>\n",
       "      <td>-0.161517</td>\n",
       "      <td>-0.669258</td>\n",
       "      <td>-0.626603</td>\n",
       "      <td>-0.770249</td>\n",
       "      <td>-0.056389</td>\n",
       "      <td>-0.062640</td>\n",
       "      <td>-0.057660</td>\n",
       "      <td>-0.148328</td>\n",
       "    </tr>\n",
       "    <tr>\n",
       "      <th>2009-01-23</th>\n",
       "      <td>-0.192959</td>\n",
       "      <td>-0.722670</td>\n",
       "      <td>-0.649604</td>\n",
       "      <td>-0.779998</td>\n",
       "      <td>-0.042250</td>\n",
       "      <td>-0.033841</td>\n",
       "      <td>-0.052290</td>\n",
       "      <td>-0.124745</td>\n",
       "    </tr>\n",
       "    <tr>\n",
       "      <th>2009-01-26</th>\n",
       "      <td>-0.154677</td>\n",
       "      <td>-0.465324</td>\n",
       "      <td>-0.509773</td>\n",
       "      <td>-0.716253</td>\n",
       "      <td>-0.014559</td>\n",
       "      <td>-0.006659</td>\n",
       "      <td>0.064955</td>\n",
       "      <td>-0.046174</td>\n",
       "    </tr>\n",
       "  </tbody>\n",
       "</table>\n",
       "</div>"
      ],
      "text/plain": [
       "             HSBA.UK   BARC.UK   LLOY.UK    RBS.UK     BP.UK   RDSA.UK  \\\n",
       "Date                                                                     \n",
       "2009-01-20 -0.245792 -0.570689 -0.638392 -0.789787 -0.049165 -0.039889   \n",
       "2009-01-21 -0.194892 -0.626511 -0.648756 -0.752959 -0.086976 -0.089082   \n",
       "2009-01-22 -0.161517 -0.669258 -0.626603 -0.770249 -0.056389 -0.062640   \n",
       "2009-01-23 -0.192959 -0.722670 -0.649604 -0.779998 -0.042250 -0.033841   \n",
       "2009-01-26 -0.154677 -0.465324 -0.509773 -0.716253 -0.014559 -0.006659   \n",
       "\n",
       "              RIO.UK    AAL.UK  \n",
       "Date                            \n",
       "2009-01-20 -0.185980 -0.242904  \n",
       "2009-01-21 -0.127155 -0.189779  \n",
       "2009-01-22 -0.057660 -0.148328  \n",
       "2009-01-23 -0.052290 -0.124745  \n",
       "2009-01-26  0.064955 -0.046174  "
      ]
     },
     "execution_count": 30,
     "metadata": {},
     "output_type": "execute_result"
    }
   ],
   "source": [
    "returns = pd.read_csv('10_days_returns.csv', index_col = 'Date')\n",
    "\n",
    "returns.head()"
   ]
  },
  {
   "cell_type": "markdown",
   "metadata": {},
   "source": [
    "## Описание данных"
   ]
  },
  {
   "cell_type": "markdown",
   "metadata": {},
   "source": [
    "Выведим описательные статистики и автокорреляцию по первому лагу."
   ]
  },
  {
   "cell_type": "code",
   "execution_count": null,
   "metadata": {},
   "outputs": [],
   "source": [
    "autocorrelation = []\n",
    "\n",
    "for colname in colnames:\n",
    "    autocorrelation.append(returns[colname].autocorr(lag = 1))"
   ]
  },
  {
   "cell_type": "code",
   "execution_count": 37,
   "metadata": {},
   "outputs": [
    {
     "data": {
      "text/html": [
       "<div>\n",
       "<style scoped>\n",
       "    .dataframe tbody tr th:only-of-type {\n",
       "        vertical-align: middle;\n",
       "    }\n",
       "\n",
       "    .dataframe tbody tr th {\n",
       "        vertical-align: top;\n",
       "    }\n",
       "\n",
       "    .dataframe thead th {\n",
       "        text-align: right;\n",
       "    }\n",
       "</style>\n",
       "<table border=\"1\" class=\"dataframe\">\n",
       "  <thead>\n",
       "    <tr style=\"text-align: right;\">\n",
       "      <th></th>\n",
       "      <th>HSBA.UK</th>\n",
       "      <th>BARC.UK</th>\n",
       "      <th>LLOY.UK</th>\n",
       "      <th>RBS.UK</th>\n",
       "      <th>BP.UK</th>\n",
       "      <th>RDSA.UK</th>\n",
       "      <th>RIO.UK</th>\n",
       "      <th>AAL.UK</th>\n",
       "    </tr>\n",
       "  </thead>\n",
       "  <tbody>\n",
       "    <tr>\n",
       "      <th>count</th>\n",
       "      <td>749.000000</td>\n",
       "      <td>749.000000</td>\n",
       "      <td>749.000000</td>\n",
       "      <td>749.000000</td>\n",
       "      <td>749.000000</td>\n",
       "      <td>749.000000</td>\n",
       "      <td>749.000000</td>\n",
       "      <td>749.000000</td>\n",
       "    </tr>\n",
       "    <tr>\n",
       "      <th>mean</th>\n",
       "      <td>0.001548</td>\n",
       "      <td>0.013534</td>\n",
       "      <td>-0.000657</td>\n",
       "      <td>0.004652</td>\n",
       "      <td>0.001007</td>\n",
       "      <td>0.004643</td>\n",
       "      <td>0.014518</td>\n",
       "      <td>0.009401</td>\n",
       "    </tr>\n",
       "    <tr>\n",
       "      <th>std</th>\n",
       "      <td>0.064685</td>\n",
       "      <td>0.150058</td>\n",
       "      <td>0.153627</td>\n",
       "      <td>0.147392</td>\n",
       "      <td>0.063216</td>\n",
       "      <td>0.046326</td>\n",
       "      <td>0.084188</td>\n",
       "      <td>0.079307</td>\n",
       "    </tr>\n",
       "    <tr>\n",
       "      <th>min</th>\n",
       "      <td>-0.290343</td>\n",
       "      <td>-0.722670</td>\n",
       "      <td>-0.649604</td>\n",
       "      <td>-0.789787</td>\n",
       "      <td>-0.298137</td>\n",
       "      <td>-0.195308</td>\n",
       "      <td>-0.233768</td>\n",
       "      <td>-0.316247</td>\n",
       "    </tr>\n",
       "    <tr>\n",
       "      <th>25%</th>\n",
       "      <td>-0.030701</td>\n",
       "      <td>-0.051445</td>\n",
       "      <td>-0.067942</td>\n",
       "      <td>-0.064734</td>\n",
       "      <td>-0.028745</td>\n",
       "      <td>-0.024213</td>\n",
       "      <td>-0.037974</td>\n",
       "      <td>-0.040067</td>\n",
       "    </tr>\n",
       "    <tr>\n",
       "      <th>50%</th>\n",
       "      <td>-0.002056</td>\n",
       "      <td>-0.003666</td>\n",
       "      <td>-0.010334</td>\n",
       "      <td>-0.007179</td>\n",
       "      <td>0.005585</td>\n",
       "      <td>0.007588</td>\n",
       "      <td>0.013533</td>\n",
       "      <td>0.009936</td>\n",
       "    </tr>\n",
       "    <tr>\n",
       "      <th>75%</th>\n",
       "      <td>0.030232</td>\n",
       "      <td>0.059088</td>\n",
       "      <td>0.051077</td>\n",
       "      <td>0.062105</td>\n",
       "      <td>0.036411</td>\n",
       "      <td>0.034025</td>\n",
       "      <td>0.066666</td>\n",
       "      <td>0.058990</td>\n",
       "    </tr>\n",
       "    <tr>\n",
       "      <th>max</th>\n",
       "      <td>0.298901</td>\n",
       "      <td>0.953121</td>\n",
       "      <td>1.040486</td>\n",
       "      <td>0.980523</td>\n",
       "      <td>0.314099</td>\n",
       "      <td>0.195335</td>\n",
       "      <td>0.317943</td>\n",
       "      <td>0.334882</td>\n",
       "    </tr>\n",
       "    <tr>\n",
       "      <th>autocorr</th>\n",
       "      <td>0.868376</td>\n",
       "      <td>0.899319</td>\n",
       "      <td>0.886610</td>\n",
       "      <td>0.864620</td>\n",
       "      <td>0.914782</td>\n",
       "      <td>0.887964</td>\n",
       "      <td>0.875743</td>\n",
       "      <td>0.861956</td>\n",
       "    </tr>\n",
       "  </tbody>\n",
       "</table>\n",
       "</div>"
      ],
      "text/plain": [
       "             HSBA.UK     BARC.UK     LLOY.UK      RBS.UK       BP.UK  \\\n",
       "count     749.000000  749.000000  749.000000  749.000000  749.000000   \n",
       "mean        0.001548    0.013534   -0.000657    0.004652    0.001007   \n",
       "std         0.064685    0.150058    0.153627    0.147392    0.063216   \n",
       "min        -0.290343   -0.722670   -0.649604   -0.789787   -0.298137   \n",
       "25%        -0.030701   -0.051445   -0.067942   -0.064734   -0.028745   \n",
       "50%        -0.002056   -0.003666   -0.010334   -0.007179    0.005585   \n",
       "75%         0.030232    0.059088    0.051077    0.062105    0.036411   \n",
       "max         0.298901    0.953121    1.040486    0.980523    0.314099   \n",
       "autocorr    0.868376    0.899319    0.886610    0.864620    0.914782   \n",
       "\n",
       "             RDSA.UK      RIO.UK      AAL.UK  \n",
       "count     749.000000  749.000000  749.000000  \n",
       "mean        0.004643    0.014518    0.009401  \n",
       "std         0.046326    0.084188    0.079307  \n",
       "min        -0.195308   -0.233768   -0.316247  \n",
       "25%        -0.024213   -0.037974   -0.040067  \n",
       "50%         0.007588    0.013533    0.009936  \n",
       "75%         0.034025    0.066666    0.058990  \n",
       "max         0.195335    0.317943    0.334882  \n",
       "autocorr    0.887964    0.875743    0.861956  "
      ]
     },
     "execution_count": 37,
     "metadata": {},
     "output_type": "execute_result"
    }
   ],
   "source": [
    "description = returns.describe()\n",
    "autocorr = pd.DataFrame([autocorrelation], columns = colnames, index=['autocorr'])\n",
    "description = description.append(autocorr)\n",
    "description"
   ]
  },
  {
   "cell_type": "markdown",
   "metadata": {},
   "source": [
    "добавить skew и kurtosis?"
   ]
  },
  {
   "cell_type": "markdown",
   "metadata": {},
   "source": [
    "## Ковариационная и корреляционная матрицы"
   ]
  },
  {
   "cell_type": "code",
   "execution_count": 43,
   "metadata": {},
   "outputs": [
    {
     "data": {
      "text/html": [
       "<div>\n",
       "<style scoped>\n",
       "    .dataframe tbody tr th:only-of-type {\n",
       "        vertical-align: middle;\n",
       "    }\n",
       "\n",
       "    .dataframe tbody tr th {\n",
       "        vertical-align: top;\n",
       "    }\n",
       "\n",
       "    .dataframe thead th {\n",
       "        text-align: right;\n",
       "    }\n",
       "</style>\n",
       "<table border=\"1\" class=\"dataframe\">\n",
       "  <thead>\n",
       "    <tr style=\"text-align: right;\">\n",
       "      <th></th>\n",
       "      <th>HSBA.UK</th>\n",
       "      <th>BARC.UK</th>\n",
       "      <th>LLOY.UK</th>\n",
       "      <th>RBS.UK</th>\n",
       "      <th>BP.UK</th>\n",
       "      <th>RDSA.UK</th>\n",
       "      <th>RIO.UK</th>\n",
       "      <th>AAL.UK</th>\n",
       "    </tr>\n",
       "  </thead>\n",
       "  <tbody>\n",
       "    <tr>\n",
       "      <th>HSBA.UK</th>\n",
       "      <td>0.004184</td>\n",
       "      <td>0.006472</td>\n",
       "      <td>0.005634</td>\n",
       "      <td>0.005051</td>\n",
       "      <td>0.001592</td>\n",
       "      <td>0.001356</td>\n",
       "      <td>0.002755</td>\n",
       "      <td>0.003063</td>\n",
       "    </tr>\n",
       "    <tr>\n",
       "      <th>BARC.UK</th>\n",
       "      <td>0.006472</td>\n",
       "      <td>0.022517</td>\n",
       "      <td>0.017418</td>\n",
       "      <td>0.015994</td>\n",
       "      <td>0.003319</td>\n",
       "      <td>0.002036</td>\n",
       "      <td>0.005914</td>\n",
       "      <td>0.005600</td>\n",
       "    </tr>\n",
       "    <tr>\n",
       "      <th>LLOY.UK</th>\n",
       "      <td>0.005634</td>\n",
       "      <td>0.017418</td>\n",
       "      <td>0.023601</td>\n",
       "      <td>0.018010</td>\n",
       "      <td>0.002826</td>\n",
       "      <td>0.001945</td>\n",
       "      <td>0.005175</td>\n",
       "      <td>0.004849</td>\n",
       "    </tr>\n",
       "    <tr>\n",
       "      <th>RBS.UK</th>\n",
       "      <td>0.005051</td>\n",
       "      <td>0.015994</td>\n",
       "      <td>0.018010</td>\n",
       "      <td>0.021724</td>\n",
       "      <td>0.002731</td>\n",
       "      <td>0.002138</td>\n",
       "      <td>0.005006</td>\n",
       "      <td>0.004476</td>\n",
       "    </tr>\n",
       "    <tr>\n",
       "      <th>BP.UK</th>\n",
       "      <td>0.001592</td>\n",
       "      <td>0.003319</td>\n",
       "      <td>0.002826</td>\n",
       "      <td>0.002731</td>\n",
       "      <td>0.003996</td>\n",
       "      <td>0.001920</td>\n",
       "      <td>0.002492</td>\n",
       "      <td>0.002341</td>\n",
       "    </tr>\n",
       "    <tr>\n",
       "      <th>RDSA.UK</th>\n",
       "      <td>0.001356</td>\n",
       "      <td>0.002036</td>\n",
       "      <td>0.001945</td>\n",
       "      <td>0.002138</td>\n",
       "      <td>0.001920</td>\n",
       "      <td>0.002146</td>\n",
       "      <td>0.002436</td>\n",
       "      <td>0.002265</td>\n",
       "    </tr>\n",
       "    <tr>\n",
       "      <th>RIO.UK</th>\n",
       "      <td>0.002755</td>\n",
       "      <td>0.005914</td>\n",
       "      <td>0.005175</td>\n",
       "      <td>0.005006</td>\n",
       "      <td>0.002492</td>\n",
       "      <td>0.002436</td>\n",
       "      <td>0.007088</td>\n",
       "      <td>0.004996</td>\n",
       "    </tr>\n",
       "    <tr>\n",
       "      <th>AAL.UK</th>\n",
       "      <td>0.003063</td>\n",
       "      <td>0.005600</td>\n",
       "      <td>0.004849</td>\n",
       "      <td>0.004476</td>\n",
       "      <td>0.002341</td>\n",
       "      <td>0.002265</td>\n",
       "      <td>0.004996</td>\n",
       "      <td>0.006290</td>\n",
       "    </tr>\n",
       "  </tbody>\n",
       "</table>\n",
       "</div>"
      ],
      "text/plain": [
       "          HSBA.UK   BARC.UK   LLOY.UK    RBS.UK     BP.UK   RDSA.UK    RIO.UK  \\\n",
       "HSBA.UK  0.004184  0.006472  0.005634  0.005051  0.001592  0.001356  0.002755   \n",
       "BARC.UK  0.006472  0.022517  0.017418  0.015994  0.003319  0.002036  0.005914   \n",
       "LLOY.UK  0.005634  0.017418  0.023601  0.018010  0.002826  0.001945  0.005175   \n",
       "RBS.UK   0.005051  0.015994  0.018010  0.021724  0.002731  0.002138  0.005006   \n",
       "BP.UK    0.001592  0.003319  0.002826  0.002731  0.003996  0.001920  0.002492   \n",
       "RDSA.UK  0.001356  0.002036  0.001945  0.002138  0.001920  0.002146  0.002436   \n",
       "RIO.UK   0.002755  0.005914  0.005175  0.005006  0.002492  0.002436  0.007088   \n",
       "AAL.UK   0.003063  0.005600  0.004849  0.004476  0.002341  0.002265  0.004996   \n",
       "\n",
       "           AAL.UK  \n",
       "HSBA.UK  0.003063  \n",
       "BARC.UK  0.005600  \n",
       "LLOY.UK  0.004849  \n",
       "RBS.UK   0.004476  \n",
       "BP.UK    0.002341  \n",
       "RDSA.UK  0.002265  \n",
       "RIO.UK   0.004996  \n",
       "AAL.UK   0.006290  "
      ]
     },
     "execution_count": 43,
     "metadata": {},
     "output_type": "execute_result"
    }
   ],
   "source": [
    "cov = returns.cov()\n",
    "cov"
   ]
  },
  {
   "cell_type": "code",
   "execution_count": 44,
   "metadata": {},
   "outputs": [
    {
     "data": {
      "text/html": [
       "<div>\n",
       "<style scoped>\n",
       "    .dataframe tbody tr th:only-of-type {\n",
       "        vertical-align: middle;\n",
       "    }\n",
       "\n",
       "    .dataframe tbody tr th {\n",
       "        vertical-align: top;\n",
       "    }\n",
       "\n",
       "    .dataframe thead th {\n",
       "        text-align: right;\n",
       "    }\n",
       "</style>\n",
       "<table border=\"1\" class=\"dataframe\">\n",
       "  <thead>\n",
       "    <tr style=\"text-align: right;\">\n",
       "      <th></th>\n",
       "      <th>HSBA.UK</th>\n",
       "      <th>BARC.UK</th>\n",
       "      <th>LLOY.UK</th>\n",
       "      <th>RBS.UK</th>\n",
       "      <th>BP.UK</th>\n",
       "      <th>RDSA.UK</th>\n",
       "      <th>RIO.UK</th>\n",
       "      <th>AAL.UK</th>\n",
       "    </tr>\n",
       "  </thead>\n",
       "  <tbody>\n",
       "    <tr>\n",
       "      <th>HSBA.UK</th>\n",
       "      <td>1.000000</td>\n",
       "      <td>0.666787</td>\n",
       "      <td>0.566960</td>\n",
       "      <td>0.529801</td>\n",
       "      <td>0.389250</td>\n",
       "      <td>0.452506</td>\n",
       "      <td>0.505901</td>\n",
       "      <td>0.597099</td>\n",
       "    </tr>\n",
       "    <tr>\n",
       "      <th>BARC.UK</th>\n",
       "      <td>0.666787</td>\n",
       "      <td>1.000000</td>\n",
       "      <td>0.755567</td>\n",
       "      <td>0.723143</td>\n",
       "      <td>0.349909</td>\n",
       "      <td>0.292819</td>\n",
       "      <td>0.468141</td>\n",
       "      <td>0.470574</td>\n",
       "    </tr>\n",
       "    <tr>\n",
       "      <th>LLOY.UK</th>\n",
       "      <td>0.566960</td>\n",
       "      <td>0.755567</td>\n",
       "      <td>1.000000</td>\n",
       "      <td>0.795380</td>\n",
       "      <td>0.291005</td>\n",
       "      <td>0.273344</td>\n",
       "      <td>0.400146</td>\n",
       "      <td>0.398004</td>\n",
       "    </tr>\n",
       "    <tr>\n",
       "      <th>RBS.UK</th>\n",
       "      <td>0.529801</td>\n",
       "      <td>0.723143</td>\n",
       "      <td>0.795380</td>\n",
       "      <td>1.000000</td>\n",
       "      <td>0.293113</td>\n",
       "      <td>0.313189</td>\n",
       "      <td>0.403456</td>\n",
       "      <td>0.382935</td>\n",
       "    </tr>\n",
       "    <tr>\n",
       "      <th>BP.UK</th>\n",
       "      <td>0.389250</td>\n",
       "      <td>0.349909</td>\n",
       "      <td>0.291005</td>\n",
       "      <td>0.293113</td>\n",
       "      <td>1.000000</td>\n",
       "      <td>0.655469</td>\n",
       "      <td>0.468159</td>\n",
       "      <td>0.466896</td>\n",
       "    </tr>\n",
       "    <tr>\n",
       "      <th>RDSA.UK</th>\n",
       "      <td>0.452506</td>\n",
       "      <td>0.292819</td>\n",
       "      <td>0.273344</td>\n",
       "      <td>0.313189</td>\n",
       "      <td>0.655469</td>\n",
       "      <td>1.000000</td>\n",
       "      <td>0.624564</td>\n",
       "      <td>0.616507</td>\n",
       "    </tr>\n",
       "    <tr>\n",
       "      <th>RIO.UK</th>\n",
       "      <td>0.505901</td>\n",
       "      <td>0.468141</td>\n",
       "      <td>0.400146</td>\n",
       "      <td>0.403456</td>\n",
       "      <td>0.468159</td>\n",
       "      <td>0.624564</td>\n",
       "      <td>1.000000</td>\n",
       "      <td>0.748254</td>\n",
       "    </tr>\n",
       "    <tr>\n",
       "      <th>AAL.UK</th>\n",
       "      <td>0.597099</td>\n",
       "      <td>0.470574</td>\n",
       "      <td>0.398004</td>\n",
       "      <td>0.382935</td>\n",
       "      <td>0.466896</td>\n",
       "      <td>0.616507</td>\n",
       "      <td>0.748254</td>\n",
       "      <td>1.000000</td>\n",
       "    </tr>\n",
       "  </tbody>\n",
       "</table>\n",
       "</div>"
      ],
      "text/plain": [
       "          HSBA.UK   BARC.UK   LLOY.UK    RBS.UK     BP.UK   RDSA.UK    RIO.UK  \\\n",
       "HSBA.UK  1.000000  0.666787  0.566960  0.529801  0.389250  0.452506  0.505901   \n",
       "BARC.UK  0.666787  1.000000  0.755567  0.723143  0.349909  0.292819  0.468141   \n",
       "LLOY.UK  0.566960  0.755567  1.000000  0.795380  0.291005  0.273344  0.400146   \n",
       "RBS.UK   0.529801  0.723143  0.795380  1.000000  0.293113  0.313189  0.403456   \n",
       "BP.UK    0.389250  0.349909  0.291005  0.293113  1.000000  0.655469  0.468159   \n",
       "RDSA.UK  0.452506  0.292819  0.273344  0.313189  0.655469  1.000000  0.624564   \n",
       "RIO.UK   0.505901  0.468141  0.400146  0.403456  0.468159  0.624564  1.000000   \n",
       "AAL.UK   0.597099  0.470574  0.398004  0.382935  0.466896  0.616507  0.748254   \n",
       "\n",
       "           AAL.UK  \n",
       "HSBA.UK  0.597099  \n",
       "BARC.UK  0.470574  \n",
       "LLOY.UK  0.398004  \n",
       "RBS.UK   0.382935  \n",
       "BP.UK    0.466896  \n",
       "RDSA.UK  0.616507  \n",
       "RIO.UK   0.748254  \n",
       "AAL.UK   1.000000  "
      ]
     },
     "execution_count": 44,
     "metadata": {},
     "output_type": "execute_result"
    }
   ],
   "source": [
    "corr = returns.corr()\n",
    "corr"
   ]
  },
  {
   "cell_type": "code",
   "execution_count": 47,
   "metadata": {},
   "outputs": [],
   "source": [
    "weights = np.array([0.1, 0.1, 0.1, 0.1, 0.175, 0.175, 0.125, 0.125])"
   ]
  },
  {
   "cell_type": "code",
   "execution_count": 55,
   "metadata": {},
   "outputs": [],
   "source": [
    "stock_portfolio_return = np.array(returns)@weights"
   ]
  },
  {
   "cell_type": "code",
   "execution_count": 56,
   "metadata": {},
   "outputs": [
    {
     "data": {
      "text/plain": [
       "array([-0.29366107, -0.29273877, -0.26934122, -0.26996844, -0.18596835])"
      ]
     },
     "execution_count": 56,
     "metadata": {},
     "output_type": "execute_result"
    }
   ],
   "source": [
    "stock_portfolio_return[:5]"
   ]
  },
  {
   "cell_type": "code",
   "execution_count": 46,
   "metadata": {},
   "outputs": [
    {
     "data": {
      "text/plain": [
       "array([[0.00418419, 0.0064722 , 0.0056341 , 0.00505116, 0.0015917 ,\n",
       "        0.00135599, 0.00275501, 0.00306313],\n",
       "       [0.0064722 , 0.02251743, 0.017418  , 0.01599398, 0.00331925,\n",
       "        0.00203557, 0.0059141 , 0.00560017],\n",
       "       [0.0056341 , 0.017418  , 0.0236011 , 0.01801   , 0.00282613,\n",
       "        0.00194537, 0.00517532, 0.00484917],\n",
       "       [0.00505116, 0.01599398, 0.01801   , 0.02172431, 0.00273108,\n",
       "        0.00213849, 0.00500635, 0.00447622],\n",
       "       [0.0015917 , 0.00331925, 0.00282613, 0.00273108, 0.00399624,\n",
       "        0.00191958, 0.00249156, 0.00234077],\n",
       "       [0.00135599, 0.00203557, 0.00194537, 0.00213849, 0.00191958,\n",
       "        0.00214612, 0.00243588, 0.00226506],\n",
       "       [0.00275501, 0.0059141 , 0.00517532, 0.00500635, 0.00249156,\n",
       "        0.00243588, 0.0070877 , 0.00499592],\n",
       "       [0.00306313, 0.00560017, 0.00484917, 0.00447622, 0.00234077,\n",
       "        0.00226506, 0.00499592, 0.00628966]])"
      ]
     },
     "execution_count": 46,
     "metadata": {},
     "output_type": "execute_result"
    }
   ],
   "source": [
    "np.array(cov)"
   ]
  },
  {
   "cell_type": "code",
   "execution_count": 48,
   "metadata": {},
   "outputs": [
    {
     "data": {
      "text/plain": [
       "array([0.00337728, 0.00861654, 0.0085544 , 0.00811544, 0.00268613,\n",
       "       0.00204666, 0.00425783, 0.00401559])"
      ]
     },
     "execution_count": 48,
     "metadata": {},
     "output_type": "execute_result"
    }
   ],
   "source": [
    "weights@np.array(cov)"
   ]
  },
  {
   "cell_type": "code",
   "execution_count": 61,
   "metadata": {},
   "outputs": [
    {
     "data": {
      "text/plain": [
       "(array([0.0856813 , 0.14994228, 0.44982684, 2.29197485, 6.49035869,\n",
       "        4.88383426, 1.15669759, 0.34272521, 0.14994228, 0.04284065]),\n",
       " array([-0.29366107, -0.23133179, -0.16900251, -0.10667323, -0.04434395,\n",
       "         0.01798533,  0.08031461,  0.14264389,  0.20497317,  0.26730245,\n",
       "         0.32963173]),\n",
       " <a list of 10 Patch objects>)"
      ]
     },
     "execution_count": 61,
     "metadata": {},
     "output_type": "execute_result"
    },
    {
     "data": {
      "image/png": "[encoded data removed]",
      "text/plain": [
       "<Figure size 432x288 with 1 Axes>"
      ]
     },
     "metadata": {},
     "output_type": "display_data"
    }
   ],
   "source": [
    "plt.hist(stock_portfolio_return, density = True)"
   ]
  },
  {
   "cell_type": "code",
   "execution_count": 63,
   "metadata": {},
   "outputs": [
    {
     "data": {
      "text/plain": [
       "0.005886307182770796"
      ]
     },
     "execution_count": 63,
     "metadata": {},
     "output_type": "execute_result"
    }
   ],
   "source": [
    "np.mean(stock_portfolio_return)"
   ]
  },
  {
   "cell_type": "code",
   "execution_count": 64,
   "metadata": {},
   "outputs": [
    {
     "data": {
      "text/plain": [
       "0.06872020447543399"
      ]
     },
     "execution_count": 64,
     "metadata": {},
     "output_type": "execute_result"
    }
   ],
   "source": [
    "np.std(stock_portfolio_return)"
   ]
  },
  {
   "cell_type": "code",
   "execution_count": 67,
   "metadata": {},
   "outputs": [],
   "source": [
    "standnorm_return = np.random.normal(0, np.std(stock_portfolio_return), 10000)"
   ]
  },
  {
   "cell_type": "code",
   "execution_count": 68,
   "metadata": {},
   "outputs": [
    {
     "data": {
      "text/plain": [
       "(array([0.01560395, 0.07606924, 0.6826727 , 2.39130495, 4.83137223,\n",
       "        5.68763885, 3.73519492, 1.63061251, 0.40375214, 0.05071283]),\n",
       " array([-0.27220619, -0.22093711, -0.16966803, -0.11839896, -0.06712988,\n",
       "        -0.0158608 ,  0.03540828,  0.08667736,  0.13794643,  0.18921551,\n",
       "         0.24048459]),\n",
       " <a list of 10 Patch objects>)"
      ]
     },
     "execution_count": 68,
     "metadata": {},
     "output_type": "execute_result"
    },
    {
     "data": {
      "image/png": "[encoded data removed]",
      "text/plain": [
       "<Figure size 432x288 with 1 Axes>"
      ]
     },
     "metadata": {},
     "output_type": "display_data"
    }
   ],
   "source": [
    "plt.hist(standnorm_return, density = True)"
   ]
  },
  {
   "cell_type": "code",
   "execution_count": null,
   "metadata": {},
   "outputs": [],
   "source": []
  }
 ],
 "metadata": {
  "kernelspec": {
   "display_name": "Python 3",
   "language": "python",
   "name": "python3"
  },
  "language_info": {
   "codemirror_mode": {
    "name": "ipython",
    "version": 3
   },
   "file_extension": ".py",
   "mimetype": "text/x-python",
   "name": "python",
   "nbconvert_exporter": "python",
   "pygments_lexer": "ipython3",
   "version": "3.6.5"
  }
 },
 "nbformat": 4,
 "nbformat_minor": 2
}
